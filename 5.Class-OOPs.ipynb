{
 "cells": [
  {
   "cell_type": "code",
   "execution_count": 1,
   "id": "6009d201-e92a-478a-8c36-9e910d778781",
   "metadata": {},
   "outputs": [],
   "source": [
    "class multipleFunctions():\n",
    "    def BMI():\n",
    "        Digit=float(input(\"Enter the BMI number :\"))\n",
    "        if(Digit<18.5):\n",
    "            print(\"Under Weight\")\n",
    "            bmi=\"Under Weight\"\n",
    "        elif(Digit<24.9):\n",
    "            print(\"Normal\")\n",
    "            bmi=\"Normal\"\n",
    "        elif(Digit<29.9):\n",
    "            print(\"Over Weight\")\n",
    "            bmi=\"Over Weight\"\n",
    "        else:\n",
    "            print(\"Obese\")\n",
    "            bmi=\"Obese\"\n",
    "        return bmi\n",
    "    def Evenodd():\n",
    "        Num=int(input(\"Enter the number: \"))\n",
    "        if((Num%2)==0):\n",
    "            print(\"Even Number\")\n",
    "            ans=\"Even Number\"\n",
    "        else:\n",
    "            print(\"Odd Number\")\n",
    "            ans=\"Odd Number\"\n",
    "        return ans"
   ]
  },
  {
   "cell_type": "code",
   "execution_count": 3,
   "id": "58784ec8-0a2f-4e33-bb6f-31cd89793e30",
   "metadata": {},
   "outputs": [
    {
     "name": "stdin",
     "output_type": "stream",
     "text": [
      "Enter the BMI number : 18\n"
     ]
    },
    {
     "name": "stdout",
     "output_type": "stream",
     "text": [
      "Under Weight\n"
     ]
    },
    {
     "data": {
      "text/plain": [
       "'Under Weight'"
      ]
     },
     "execution_count": 3,
     "metadata": {},
     "output_type": "execute_result"
    }
   ],
   "source": [
    "multipleFunctions.BMI()"
   ]
  },
  {
   "cell_type": "code",
   "execution_count": 4,
   "id": "b47f05fd-9148-437a-b7fa-a5b393380c93",
   "metadata": {},
   "outputs": [
    {
     "name": "stdin",
     "output_type": "stream",
     "text": [
      "Enter the number:  245\n"
     ]
    },
    {
     "name": "stdout",
     "output_type": "stream",
     "text": [
      "Odd Number\n"
     ]
    },
    {
     "data": {
      "text/plain": [
       "'Odd Number'"
      ]
     },
     "execution_count": 4,
     "metadata": {},
     "output_type": "execute_result"
    }
   ],
   "source": [
    "multipleFunctions.Evenodd()"
   ]
  },
  {
   "cell_type": "code",
   "execution_count": null,
   "id": "f1376e2f-f878-45e6-b625-f5a8db215065",
   "metadata": {},
   "outputs": [],
   "source": []
  }
 ],
 "metadata": {
  "kernelspec": {
   "display_name": "Python [conda env:base] *",
   "language": "python",
   "name": "conda-base-py"
  },
  "language_info": {
   "codemirror_mode": {
    "name": "ipython",
    "version": 3
   },
   "file_extension": ".py",
   "mimetype": "text/x-python",
   "name": "python",
   "nbconvert_exporter": "python",
   "pygments_lexer": "ipython3",
   "version": "3.13.5"
  }
 },
 "nbformat": 4,
 "nbformat_minor": 5
}
