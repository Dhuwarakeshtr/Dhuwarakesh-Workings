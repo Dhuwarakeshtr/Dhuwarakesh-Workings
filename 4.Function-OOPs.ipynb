{
 "cells": [
  {
   "cell_type": "code",
   "execution_count": 4,
   "id": "e307782b-70dd-4c9a-b976-626340d0311b",
   "metadata": {},
   "outputs": [],
   "source": [
    "Lists=[17,23,45,67,34,89,51,53,49,12,8]"
   ]
  },
  {
   "cell_type": "code",
   "execution_count": 5,
   "id": "7aaf14a7-6e12-4322-a7a1-92a6cec64058",
   "metadata": {},
   "outputs": [],
   "source": [
    "def agecategory():\n",
    "    for age in Lists:\n",
    "        if(age<18):\n",
    "            print(\"Child\")\n",
    "        elif(age<=39):\n",
    "            print(\"Adult\")\n",
    "        elif(age<=59):\n",
    "            print(\"Citizen\")\n",
    "        else:\n",
    "            print(\"Senior Citizen\")"
   ]
  },
  {
   "cell_type": "code",
   "execution_count": 7,
   "id": "0176ae38-a3ec-4ab0-8e9c-32fc61f539f0",
   "metadata": {},
   "outputs": [
    {
     "name": "stdout",
     "output_type": "stream",
     "text": [
      "Child\n",
      "Adult\n",
      "Citizen\n",
      "Senior Citizen\n",
      "Adult\n",
      "Senior Citizen\n",
      "Citizen\n",
      "Citizen\n",
      "Citizen\n",
      "Child\n",
      "Child\n"
     ]
    }
   ],
   "source": [
    "#functionname() is called to run the coding to see the output without using return statement.\n",
    "agecategory()"
   ]
  },
  {
   "cell_type": "code",
   "execution_count": 56,
   "id": "c19fe62e-c147-458c-a00f-2fab51a10a17",
   "metadata": {},
   "outputs": [],
   "source": [
    "#using the OOPs function with return statement - we need to assign a variable to get the answer/value in the return statement/method\n",
    "def agecategory1():\n",
    "    if(age<18):\n",
    "        print(\"Child\")\n",
    "        a=\"Child\"\n",
    "    elif(age<=39):\n",
    "        print(\"Adult\")\n",
    "        a=\"Adult\"\n",
    "    elif(age<=59):\n",
    "        print(\"Citizen\")\n",
    "        a=\"Citizen\"\n",
    "    else:\n",
    "        print(\"Senior Citizen\")\n",
    "        a=\"Senior Citizen\"\n",
    "    return a"
   ]
  },
  {
   "cell_type": "code",
   "execution_count": 57,
   "id": "eab87550-ce0e-4d7f-9d27-91036373dba7",
   "metadata": {},
   "outputs": [
    {
     "name": "stdin",
     "output_type": "stream",
     "text": [
      "Enter the Age:  12\n"
     ]
    }
   ],
   "source": [
    "age=int(input(\"Enter the Age: \"))"
   ]
  },
  {
   "cell_type": "code",
   "execution_count": 58,
   "id": "5374c12b-8681-4318-8c83-54aedfab8d1e",
   "metadata": {},
   "outputs": [
    {
     "name": "stdout",
     "output_type": "stream",
     "text": [
      "Child\n"
     ]
    },
    {
     "data": {
      "text/plain": [
       "'Child'"
      ]
     },
     "execution_count": 58,
     "metadata": {},
     "output_type": "execute_result"
    }
   ],
   "source": [
    "#when we run the functionname() we will get 2 results in output 1-print(\"Answer\") 2-\"return a\" - 'a=answer'\n",
    "agecategory1()"
   ]
  },
  {
   "cell_type": "code",
   "execution_count": 59,
   "id": "9daa1e93-022b-49d5-b1da-db05fa124b5a",
   "metadata": {},
   "outputs": [
    {
     "name": "stdout",
     "output_type": "stream",
     "text": [
      "Child\n"
     ]
    }
   ],
   "source": [
    "#for avoiding two answers use the below syntax/method to get the single output answer.\n",
    "Age=agecategory1()"
   ]
  },
  {
   "cell_type": "code",
   "execution_count": 60,
   "id": "6d439c4a-db8c-4da3-9815-51b29961d318",
   "metadata": {},
   "outputs": [
    {
     "name": "stdout",
     "output_type": "stream",
     "text": [
      "Child\n"
     ]
    }
   ],
   "source": [
    "#the below result will be have value/answer in that because its with return statement/method\n",
    "print(Age)"
   ]
  },
  {
   "cell_type": "code",
   "execution_count": 61,
   "id": "ce8bccb5-3b75-4719-9dc7-070afa399e19",
   "metadata": {},
   "outputs": [],
   "source": [
    "#using the OOPs function with-out return statement\n",
    "def agecategory1():\n",
    "    if(age<18):\n",
    "        print(\"Child\")\n",
    "        a=\"Child\"\n",
    "    elif(age<=39):\n",
    "        print(\"Adult\")\n",
    "        a=\"Adult\"\n",
    "    elif(age<=59):\n",
    "        print(\"Citizen\")\n",
    "        a=\"Citizen\"\n",
    "    else:\n",
    "        print(\"Senior Citizen\")\n",
    "        a=\"Senior Citizen\""
   ]
  },
  {
   "cell_type": "code",
   "execution_count": 62,
   "id": "f40f78d7-3eaf-43ee-963c-5443ca28e740",
   "metadata": {},
   "outputs": [
    {
     "name": "stdin",
     "output_type": "stream",
     "text": [
      "Enter the Age:  13\n"
     ]
    },
    {
     "name": "stdout",
     "output_type": "stream",
     "text": [
      "Child\n"
     ]
    }
   ],
   "source": [
    "age=int(input(\"Enter the Age: \"))\n",
    "Age=agecategory1()"
   ]
  },
  {
   "cell_type": "code",
   "execution_count": 64,
   "id": "b623b2d6-c91b-4dab-b95c-1e07e64c62dc",
   "metadata": {},
   "outputs": [
    {
     "name": "stdout",
     "output_type": "stream",
     "text": [
      "None\n"
     ]
    }
   ],
   "source": [
    "#the below result will be \"None\" because its with-out return statement/method\n",
    "print(Age)"
   ]
  },
  {
   "cell_type": "markdown",
   "id": "e2446fa0-1a6b-47a3-9890-5587ee11f50a",
   "metadata": {},
   "source": [
    "#--> the return statement/method is very import to use in OOPs-functions because \"The assigned varaiable(for return) will get \n",
    "the value/answer and that value/answer can be given as input to the next process."
   ]
  },
  {
   "cell_type": "code",
   "execution_count": 82,
   "id": "cb8484e1-1147-4717-872e-d16be0cd9bcf",
   "metadata": {},
   "outputs": [],
   "source": [
    "def Evenodd():\n",
    "    Num=int(input(\"Enter the number: \"))\n",
    "    if((Num%2)==0):\n",
    "        print(\"Even Number\")\n",
    "        ans=\"Even Number\"\n",
    "    else:\n",
    "        print(\"Odd Number\")\n",
    "        ans=\"Odd Number\"\n",
    "    return ans"
   ]
  },
  {
   "cell_type": "code",
   "execution_count": 83,
   "id": "23cb1eea-1372-42ee-8054-b1f8c6f554d2",
   "metadata": {},
   "outputs": [
    {
     "name": "stdin",
     "output_type": "stream",
     "text": [
      "Enter the number:  56\n"
     ]
    },
    {
     "name": "stdout",
     "output_type": "stream",
     "text": [
      "Even Number\n"
     ]
    }
   ],
   "source": [
    "ans=Evenodd()"
   ]
  },
  {
   "cell_type": "code",
   "execution_count": 84,
   "id": "92bec462-e362-4947-9104-b09e301014e0",
   "metadata": {},
   "outputs": [
    {
     "name": "stdin",
     "output_type": "stream",
     "text": [
      "Enter the number:  51\n"
     ]
    },
    {
     "name": "stdout",
     "output_type": "stream",
     "text": [
      "Odd Number\n"
     ]
    }
   ],
   "source": [
    "Anss=Evenodd()"
   ]
  },
  {
   "cell_type": "code",
   "execution_count": 85,
   "id": "19e38dc0-0de7-4bb7-b4fa-37f6581fd581",
   "metadata": {},
   "outputs": [
    {
     "name": "stdout",
     "output_type": "stream",
     "text": [
      "The given number is Odd\n"
     ]
    }
   ],
   "source": [
    "if(Anss==\"Even Number\"):\n",
    "    print(\"The given number is Even\")\n",
    "else:\n",
    "    print(\"The given number is Odd\")"
   ]
  },
  {
   "cell_type": "code",
   "execution_count": 86,
   "id": "8846cc20-064e-4b0e-a70f-105506b1871e",
   "metadata": {},
   "outputs": [
    {
     "name": "stdout",
     "output_type": "stream",
     "text": [
      "Odd Number\n"
     ]
    }
   ],
   "source": [
    "print(Anss)"
   ]
  },
  {
   "cell_type": "code",
   "execution_count": 87,
   "id": "1cdef6d5-9995-4330-b948-8eb824593d32",
   "metadata": {},
   "outputs": [
    {
     "name": "stdout",
     "output_type": "stream",
     "text": [
      "Even Number\n"
     ]
    }
   ],
   "source": [
    "print(ans)"
   ]
  },
  {
   "cell_type": "code",
   "execution_count": 88,
   "id": "0c420006-5169-497c-b2df-4810d28dba43",
   "metadata": {},
   "outputs": [],
   "source": [
    "# non-parameterized functionname() below\n",
    "def BMI():\n",
    "    Digit=float(input(\"Enter the BMI number :\"))\n",
    "    if(Digit<18.5):\n",
    "        print(\"Under Weight\")\n",
    "        bmi=\"Under Weight\"\n",
    "    elif(Digit<24.9):\n",
    "        print(\"Normal\")\n",
    "        bmi=\"Normal\"\n",
    "    elif(Digit<29.9):\n",
    "        print(\"Over Weight\")\n",
    "        bmi=\"Over Weight\"\n",
    "    else:\n",
    "        print(\"Obese\")\n",
    "        bmi=\"Obese\"\n",
    "    return bmi"
   ]
  },
  {
   "cell_type": "code",
   "execution_count": 90,
   "id": "0930f7ed-99e5-42d2-aa78-2e5d5e418160",
   "metadata": {},
   "outputs": [
    {
     "name": "stdin",
     "output_type": "stream",
     "text": [
      "Enter the BMI number : 24\n"
     ]
    },
    {
     "name": "stdout",
     "output_type": "stream",
     "text": [
      "Normal\n"
     ]
    }
   ],
   "source": [
    "bmi=BMI()"
   ]
  },
  {
   "cell_type": "code",
   "execution_count": 91,
   "id": "499dd9b0-f980-414d-9bc6-f9711fe97594",
   "metadata": {},
   "outputs": [
    {
     "data": {
      "text/plain": [
       "'Normal'"
      ]
     },
     "execution_count": 91,
     "metadata": {},
     "output_type": "execute_result"
    }
   ],
   "source": [
    "bmi"
   ]
  },
  {
   "cell_type": "code",
   "execution_count": 92,
   "id": "9e803794-a7e9-45dd-9a7d-142c7ae0e168",
   "metadata": {},
   "outputs": [
    {
     "name": "stdout",
     "output_type": "stream",
     "text": [
      "Normal\n"
     ]
    }
   ],
   "source": [
    "print(bmi)"
   ]
  },
  {
   "cell_type": "code",
   "execution_count": 93,
   "id": "f1688311-ba69-4fed-91ba-ff28f709694f",
   "metadata": {},
   "outputs": [
    {
     "name": "stdin",
     "output_type": "stream",
     "text": [
      "Enter the BMI number : 25\n"
     ]
    },
    {
     "name": "stdout",
     "output_type": "stream",
     "text": [
      "Over Weight\n"
     ]
    },
    {
     "data": {
      "text/plain": [
       "'Over Weight'"
      ]
     },
     "execution_count": 93,
     "metadata": {},
     "output_type": "execute_result"
    }
   ],
   "source": [
    "BMI()"
   ]
  },
  {
   "cell_type": "code",
   "execution_count": 94,
   "id": "ee5f8bbf-ce7e-451c-9339-89375e35f87f",
   "metadata": {},
   "outputs": [],
   "source": [
    "# parameterized/arguments functionname() below\n",
    "def Add(num1,num2):\n",
    "    add=num1+num2\n",
    "    return add"
   ]
  },
  {
   "cell_type": "code",
   "execution_count": 95,
   "id": "d3bbd2cb-812d-4a00-9830-0b4fe27f8e26",
   "metadata": {},
   "outputs": [
    {
     "data": {
      "text/plain": [
       "91"
      ]
     },
     "execution_count": 95,
     "metadata": {},
     "output_type": "execute_result"
    }
   ],
   "source": [
    "Add(2,89)"
   ]
  },
  {
   "cell_type": "code",
   "execution_count": 96,
   "id": "ee400483-5e17-4b3b-9022-22f6be67ccb7",
   "metadata": {},
   "outputs": [],
   "source": [
    "def Sub(Num1,Num2):\n",
    "    sub=Num1-Num2\n",
    "    return sub"
   ]
  },
  {
   "cell_type": "code",
   "execution_count": 97,
   "id": "b7a81e5a-e01d-4dd5-a27f-7c5f77c39c66",
   "metadata": {},
   "outputs": [
    {
     "data": {
      "text/plain": [
       "11"
      ]
     },
     "execution_count": 97,
     "metadata": {},
     "output_type": "execute_result"
    }
   ],
   "source": [
    "Sub(56,45)"
   ]
  },
  {
   "cell_type": "code",
   "execution_count": null,
   "id": "efbb0350-fd89-41c6-9c4d-102866449f43",
   "metadata": {},
   "outputs": [],
   "source": []
  }
 ],
 "metadata": {
  "kernelspec": {
   "display_name": "Python [conda env:base] *",
   "language": "python",
   "name": "conda-base-py"
  },
  "language_info": {
   "codemirror_mode": {
    "name": "ipython",
    "version": 3
   },
   "file_extension": ".py",
   "mimetype": "text/x-python",
   "name": "python",
   "nbconvert_exporter": "python",
   "pygments_lexer": "ipython3",
   "version": "3.13.5"
  }
 },
 "nbformat": 4,
 "nbformat_minor": 5
}
