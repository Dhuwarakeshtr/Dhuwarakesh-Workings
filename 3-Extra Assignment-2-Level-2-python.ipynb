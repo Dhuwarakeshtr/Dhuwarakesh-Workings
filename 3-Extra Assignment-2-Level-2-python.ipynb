{
 "cells": [
  {
   "cell_type": "code",
   "execution_count": 1,
   "id": "05194846-5d81-4764-a499-d912a20a9e7d",
   "metadata": {},
   "outputs": [
    {
     "name": "stdout",
     "output_type": "stream",
     "text": [
      "0\n",
      "1\n",
      "2\n",
      "3\n",
      "4\n",
      "5\n",
      "6\n",
      "7\n",
      "8\n",
      "9\n",
      "10\n",
      "11\n",
      "12\n",
      "13\n",
      "14\n",
      "15\n",
      "16\n",
      "17\n",
      "18\n",
      "19\n"
     ]
    }
   ],
   "source": [
    "for Num in range(0,20):\n",
    "    print(Num)"
   ]
  },
  {
   "cell_type": "code",
   "execution_count": 2,
   "id": "d2f7630d-c440-4f34-899f-e80f4a2f56c9",
   "metadata": {},
   "outputs": [
    {
     "name": "stdout",
     "output_type": "stream",
     "text": [
      "10 11 12 13 14 15 16 17 18 19 "
     ]
    }
   ],
   "source": [
    "for num in range(10,20):\n",
    "    print(num, end=' ')"
   ]
  },
  {
   "cell_type": "code",
   "execution_count": 3,
   "id": "13523d03-6c09-4c66-8a7f-2c1a765aa1f3",
   "metadata": {},
   "outputs": [
    {
     "name": "stdout",
     "output_type": "stream",
     "text": [
      "[11, 12, 13, 14, 15, 16, 17, 18, 19, 20]\n",
      "The number of itesm in the lists : 10\n"
     ]
    }
   ],
   "source": [
    "lists = [11,12,13,14,15,16,17,18,19,20]\n",
    "print(lists)\n",
    "print(\"The number of itesm in the lists :\",len(lists))"
   ]
  },
  {
   "cell_type": "code",
   "execution_count": 4,
   "id": "151f27be-27d1-4211-bb53-714a97b73393",
   "metadata": {},
   "outputs": [
    {
     "name": "stdout",
     "output_type": "stream",
     "text": [
      "['A', 'B', 'C', 'D', 'E', 'F', 'G', 'H', 'I', 'J', 'K', 'L', 'M', 'N', 'O', 'P', 'Q', 'R', 'S', 'T', 'U', 'V', 'W', 'X', 'Y', 'Z']\n",
      "The number of items in the lists :\n",
      "26\n"
     ]
    }
   ],
   "source": [
    "#the below Lists - will be considered as STRING when we use string literals by putting the letters in quotes ('A', 'B', etc.) \"or\" \n",
    "#STRING can be given like this also (Lists=\"abcdefghijklmnopqrstuvwxyz\")\n",
    "Lists=['A','B','C','D','E','F','G','H','I','J','K','L','M','N','O','P','Q','R','S','T','U','V','W','X','Y','Z']\n",
    "print(Lists)\n",
    "print(\"The number of items in the lists :\")\n",
    "print(len(Lists))"
   ]
  },
  {
   "cell_type": "code",
   "execution_count": 5,
   "id": "5e9f13b3-8099-4310-b4ef-6321ea0b6e4b",
   "metadata": {},
   "outputs": [
    {
     "name": "stdout",
     "output_type": "stream",
     "text": [
      "Artificial Intelligence\n",
      "A\n",
      "r\n",
      "t\n",
      "i\n",
      "f\n",
      "i\n",
      "c\n",
      "i\n",
      "a\n",
      "l\n",
      " \n",
      "I\n",
      "n\n",
      "t\n",
      "e\n",
      "l\n",
      "l\n",
      "i\n",
      "g\n",
      "e\n",
      "n\n",
      "c\n",
      "e\n"
     ]
    }
   ],
   "source": [
    "print(\"Artificial Intelligence\")\n",
    "Name = ['A','r','t','i','f','i','c','i','a','l',' ','I','n','t','e','l','l','i','g','e','n','c','e']\n",
    "for i in Name:\n",
    "    print(i)"
   ]
  },
  {
   "cell_type": "code",
   "execution_count": 6,
   "id": "439ed7b0-b027-4291-b5e5-7e906e9a0bd3",
   "metadata": {},
   "outputs": [
    {
     "name": "stdout",
     "output_type": "stream",
     "text": [
      "Artificial Intelligence\n",
      "A\n",
      "r\n",
      "t\n",
      "i\n",
      "f\n",
      "i\n",
      "c\n",
      "i\n",
      "a\n",
      "l\n",
      " \n",
      "I\n",
      "n\n",
      "t\n",
      "e\n",
      "l\n",
      "l\n",
      "i\n",
      "g\n",
      "e\n",
      "n\n",
      "c\n",
      "e\n"
     ]
    }
   ],
   "source": [
    "letters=\"Artificial Intelligence\"\n",
    "print(letters)\n",
    "for i in letters:\n",
    "    print(i)"
   ]
  },
  {
   "cell_type": "code",
   "execution_count": 7,
   "id": "7bbc8aaa-882f-45d4-823f-f4446dca8392",
   "metadata": {},
   "outputs": [
    {
     "name": "stdout",
     "output_type": "stream",
     "text": [
      "26\n",
      "a b c d e f g h i j k l m n o p q r s t u v w x y z "
     ]
    }
   ],
   "source": [
    "text=\"abcdefghijklmnopqrstuvwxyz\"\n",
    "print(len(text))\n",
    "for a in text:\n",
    "    print(a,end=' ')"
   ]
  },
  {
   "cell_type": "code",
   "execution_count": 8,
   "id": "6f073345-aebd-4436-9104-3ab6d651b581",
   "metadata": {},
   "outputs": [
    {
     "name": "stdout",
     "output_type": "stream",
     "text": [
      "-Your Name-\n",
      "-Your Age-\n",
      "-Your Profession-\n"
     ]
    }
   ],
   "source": [
    "print(\"-Your Name-\")\n",
    "print(\"-Your Age-\")\n",
    "print(\"-Your Profession-\")"
   ]
  },
  {
   "cell_type": "code",
   "execution_count": 9,
   "id": "7cc783e8-9bfc-4091-9708-f2f3240ef5a7",
   "metadata": {},
   "outputs": [
    {
     "name": "stdout",
     "output_type": "stream",
     "text": [
      "(20, 10, 16, 19, 25, 1, 276, 188)\n",
      "19 is Odd Number\n",
      "25 is Odd Number\n",
      "1 is Odd Number\n"
     ]
    }
   ],
   "source": [
    "Num_Lists = [20,10,16,19,25,1,276,188]\n",
    "print(tuple(Num_Lists))\n",
    "for Odd in Num_Lists:\n",
    "    if((Odd%2)!=0):\n",
    "        print(Odd, \"is Odd Number\")"
   ]
  },
  {
   "cell_type": "code",
   "execution_count": 10,
   "id": "407e8ada-b764-4bd2-ad40-cd920aa8a6b0",
   "metadata": {},
   "outputs": [
    {
     "name": "stdout",
     "output_type": "stream",
     "text": [
      "(20, 10, 16, 19, 25, 1, 276, 188)\n",
      "20 is Even Number\n",
      "10 is Even Number\n",
      "16 is Even Number\n",
      "276 is Even Number\n",
      "188 is Even Number\n"
     ]
    }
   ],
   "source": [
    "numlists=[20,10,16,19,25,1,276,188]\n",
    "print(tuple(numlists))\n",
    "for Even in numlists:\n",
    "    if((Even%2)==0):\n",
    "        print(Even, \"is Even Number\")"
   ]
  },
  {
   "cell_type": "code",
   "execution_count": 11,
   "id": "47585e24-d0f0-44e4-9659-65345a714f27",
   "metadata": {},
   "outputs": [
    {
     "name": "stdout",
     "output_type": "stream",
     "text": [
      "(1, 'Welcome', 2, 'HOPE')\n"
     ]
    }
   ],
   "source": [
    "my_tuple = (1,'Welcome',2,'HOPE')\n",
    "print(my_tuple)"
   ]
  },
  {
   "cell_type": "code",
   "execution_count": 8,
   "id": "62117fae-5e7c-4571-abf8-38d9ef6910b4",
   "metadata": {},
   "outputs": [
    {
     "name": "stdout",
     "output_type": "stream",
     "text": [
      "((0, 1, 2, 3), ('python', 'HOPE'))\n"
     ]
    }
   ],
   "source": [
    "tuple1=(0, 1, 2, 3)\n",
    "tuple2=('python', 'HOPE')\n",
    "tuple3=(tuple1,tuple2)\n",
    "print(tuple3)"
   ]
  },
  {
   "cell_type": "code",
   "execution_count": null,
   "id": "1374cc6e-1abf-4a9d-ab46-fb79e2e10f4b",
   "metadata": {},
   "outputs": [],
   "source": []
  },
  {
   "cell_type": "code",
   "execution_count": null,
   "id": "2d2d3dc7-6840-4f00-85ec-fa6e20c9e91a",
   "metadata": {},
   "outputs": [],
   "source": []
  }
 ],
 "metadata": {
  "kernelspec": {
   "display_name": "Python [conda env:base] *",
   "language": "python",
   "name": "conda-base-py"
  },
  "language_info": {
   "codemirror_mode": {
    "name": "ipython",
    "version": 3
   },
   "file_extension": ".py",
   "mimetype": "text/x-python",
   "name": "python",
   "nbconvert_exporter": "python",
   "pygments_lexer": "ipython3",
   "version": "3.13.5"
  }
 },
 "nbformat": 4,
 "nbformat_minor": 5
}
