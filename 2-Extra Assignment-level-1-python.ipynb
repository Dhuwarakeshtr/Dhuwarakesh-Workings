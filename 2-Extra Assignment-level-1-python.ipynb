{
 "cells": [
  {
   "cell_type": "code",
   "execution_count": 10,
   "id": "80fdea92-b180-48aa-8625-fd05dcfb52a3",
   "metadata": {},
   "outputs": [
    {
     "name": "stdout",
     "output_type": "stream",
     "text": [
      "HOPE AI\n"
     ]
    }
   ],
   "source": [
    "print(\"HOPE AI\")"
   ]
  },
  {
   "cell_type": "code",
   "execution_count": 11,
   "id": "b26e5c65-57ff-4a2a-8f1d-974a18bbee2f",
   "metadata": {},
   "outputs": [
    {
     "name": "stdin",
     "output_type": "stream",
     "text": [
      "Enter the Institute Name : Hope AI\n"
     ]
    }
   ],
   "source": [
    "Text=input(\"Enter the Institute Name :\")"
   ]
  },
  {
   "cell_type": "code",
   "execution_count": 13,
   "id": "6db324ef-5da8-4e30-a3f1-3260d1dd40db",
   "metadata": {},
   "outputs": [
    {
     "name": "stdin",
     "output_type": "stream",
     "text": [
      "Enter your Name : T.R. Dhuwarakesh\n",
      "Enter your Age : 35\n",
      "Enter your School Name : Hope AI\n",
      "Enter your Degree : MBA\n"
     ]
    }
   ],
   "source": [
    "Name=input(\"Enter your Name :\")\n",
    "Age=input(\"Enter your Age :\")\n",
    "School=input(\"Enter your School Name :\")\n",
    "Degree=input(\"Enter your Degree :\")"
   ]
  },
  {
   "cell_type": "code",
   "execution_count": 14,
   "id": "a0470908-1fb9-42f5-9ade-41c6af815ce8",
   "metadata": {},
   "outputs": [
    {
     "name": "stdin",
     "output_type": "stream",
     "text": [
      "a = 10\n",
      "b = 15\n"
     ]
    },
    {
     "name": "stdout",
     "output_type": "stream",
     "text": [
      "add = 25\n"
     ]
    }
   ],
   "source": [
    "a=int(input(\"a =\"))\n",
    "b=int(input(\"b =\"))\n",
    "add=a+b\n",
    "print(\"add =\",add)"
   ]
  },
  {
   "cell_type": "code",
   "execution_count": 16,
   "id": "749758c2-f60d-4b09-8bbb-e8e9c37874f8",
   "metadata": {},
   "outputs": [
    {
     "name": "stdin",
     "output_type": "stream",
     "text": [
      "a = 45\n",
      "b = 14\n"
     ]
    },
    {
     "name": "stdout",
     "output_type": "stream",
     "text": [
      "sub = 31\n"
     ]
    }
   ],
   "source": [
    "a=int(input(\"a =\"))\n",
    "b=int(input(\"b =\"))\n",
    "sub=a-b\n",
    "print(\"sub =\",sub)"
   ]
  },
  {
   "cell_type": "code",
   "execution_count": 20,
   "id": "c1de78c4-a903-4087-afe8-cad8eb3ab251",
   "metadata": {},
   "outputs": [
    {
     "name": "stdin",
     "output_type": "stream",
     "text": [
      "a = 15\n",
      "b = 2\n"
     ]
    },
    {
     "name": "stdout",
     "output_type": "stream",
     "text": [
      "mul = 30\n"
     ]
    }
   ],
   "source": [
    "a=int(input(\"a =\"))\n",
    "b=int(input(\"b =\"))\n",
    "mul=a*b\n",
    "print(\"mul =\",mul)"
   ]
  },
  {
   "cell_type": "code",
   "execution_count": 2,
   "id": "4f689ee0-bf6a-42e1-9f54-42e770f44918",
   "metadata": {},
   "outputs": [
    {
     "name": "stdin",
     "output_type": "stream",
     "text": [
      "a = 76\n",
      "b = 31\n"
     ]
    },
    {
     "name": "stdout",
     "output_type": "stream",
     "text": [
      "float div = 2.4516129032258065\n"
     ]
    }
   ],
   "source": [
    "a=float(input(\"a =\"))\n",
    "b=float(input(\"b =\"))\n",
    "div=a/b\n",
    "print(\"float div =\",div)"
   ]
  },
  {
   "cell_type": "code",
   "execution_count": 4,
   "id": "99a25dab-6273-4ce0-ba49-35bdccd1e23b",
   "metadata": {},
   "outputs": [
    {
     "name": "stdin",
     "output_type": "stream",
     "text": [
      "a = 75.9999\n",
      "b = 31.9898\n"
     ]
    },
    {
     "name": "stdout",
     "output_type": "stream",
     "text": [
      "Floor div = 2.0\n"
     ]
    }
   ],
   "source": [
    "a=float(input(\"a =\"))\n",
    "b=float(input(\"b =\"))\n",
    "div=a//b\n",
    "print(\"Floor div =\",div)"
   ]
  },
  {
   "cell_type": "code",
   "execution_count": 6,
   "id": "055ac2f6-ded1-452a-bddf-dd918028e57d",
   "metadata": {},
   "outputs": [
    {
     "name": "stdin",
     "output_type": "stream",
     "text": [
      "a = 76\n",
      "b = 31\n"
     ]
    },
    {
     "name": "stdout",
     "output_type": "stream",
     "text": [
      "Modulo = 14.0\n"
     ]
    }
   ],
   "source": [
    "a=float(input(\"a =\"))\n",
    "b=float(input(\"b =\"))\n",
    "c=a%b\n",
    "print(\"Modulo =\",c)"
   ]
  },
  {
   "cell_type": "code",
   "execution_count": 12,
   "id": "49270549-97d7-4af6-88a5-e151ad2f05f8",
   "metadata": {},
   "outputs": [
    {
     "name": "stdin",
     "output_type": "stream",
     "text": [
      "a = 4\n",
      "b = 4\n"
     ]
    },
    {
     "name": "stdout",
     "output_type": "stream",
     "text": [
      "Power = 256\n"
     ]
    }
   ],
   "source": [
    "a=int(input(\"a =\"))\n",
    "b=int(input(\"b =\"))\n",
    "c=a**b\n",
    "print(\"Power =\",c)"
   ]
  },
  {
   "cell_type": "code",
   "execution_count": null,
   "id": "93d1ca83-0046-4482-a7b6-35598426ad07",
   "metadata": {},
   "outputs": [],
   "source": []
  }
 ],
 "metadata": {
  "kernelspec": {
   "display_name": "Python [conda env:base] *",
   "language": "python",
   "name": "conda-base-py"
  },
  "language_info": {
   "codemirror_mode": {
    "name": "ipython",
    "version": 3
   },
   "file_extension": ".py",
   "mimetype": "text/x-python",
   "name": "python",
   "nbconvert_exporter": "python",
   "pygments_lexer": "ipython3",
   "version": "3.13.5"
  }
 },
 "nbformat": 4,
 "nbformat_minor": 5
}
