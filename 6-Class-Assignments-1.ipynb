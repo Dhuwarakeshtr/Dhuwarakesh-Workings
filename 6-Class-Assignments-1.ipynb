{
 "cells": [
  {
   "cell_type": "code",
   "execution_count": null,
   "id": "3846830f-1140-49b3-8650-955741a5f08f",
   "metadata": {},
   "outputs": [],
   "source": [
    "# Create a class and function, and list out the items in the list"
   ]
  },
  {
   "cell_type": "code",
   "execution_count": 1,
   "id": "48bbca6b-f00d-4ef4-b26c-74a4b094c51c",
   "metadata": {},
   "outputs": [
    {
     "name": "stdout",
     "output_type": "stream",
     "text": [
      "Sub-fields in AI are:\n",
      "Machine Learning\n",
      "Neural Networks\n",
      "Vision\n",
      "Robotics\n",
      "Speech Processing\n",
      "Natural Language Processing\n"
     ]
    }
   ],
   "source": [
    "print(\"Sub-fields in AI are:\")\n",
    "print(\"Machine Learning\")\n",
    "print(\"Neural Networks\")\n",
    "print(\"Vision\")\n",
    "print(\"Robotics\")\n",
    "print(\"Speech Processing\")\n",
    "print(\"Natural Language Processing\")"
   ]
  },
  {
   "cell_type": "code",
   "execution_count": 3,
   "id": "5c02e946-4944-48fc-bd3d-7a3b72369b5e",
   "metadata": {},
   "outputs": [],
   "source": [
    "def Subfields():\n",
    "    print(\"Sub-fields in AI are:\")\n",
    "    print(\"Machine Learning\")\n",
    "    print(\"Neural Networks\")\n",
    "    print(\"Vision\")\n",
    "    print(\"Robotics\")\n",
    "    print(\"Speech Processing\")\n",
    "    print(\"Natural Language Processing\")  "
   ]
  },
  {
   "cell_type": "code",
   "execution_count": 4,
   "id": "5735c9fb-426a-4fe2-b599-50bde0b28059",
   "metadata": {},
   "outputs": [
    {
     "name": "stdout",
     "output_type": "stream",
     "text": [
      "Sub-fields in AI are:\n",
      "Machine Learning\n",
      "Neural Networks\n",
      "Vision\n",
      "Robotics\n",
      "Speech Processing\n",
      "Natural Language Processing\n"
     ]
    }
   ],
   "source": [
    "Subfields()"
   ]
  },
  {
   "cell_type": "code",
   "execution_count": 5,
   "id": "c5c857c1-fd8e-4727-ba41-ddded4ec1159",
   "metadata": {},
   "outputs": [],
   "source": [
    "class SubfieldsInAI():\n",
    "    def Subfields():\n",
    "        print(\"Sub-fields in AI are:\")\n",
    "        print(\"Machine Learning\")\n",
    "        print(\"Neural Networks\")\n",
    "        print(\"Vision\")\n",
    "        print(\"Robotics\")\n",
    "        print(\"Speech Processing\")\n",
    "        print(\"Natural Language Processing\")"
   ]
  },
  {
   "cell_type": "code",
   "execution_count": 6,
   "id": "c418a575-276a-4a7b-81ef-2b8913e8c79c",
   "metadata": {},
   "outputs": [
    {
     "name": "stdout",
     "output_type": "stream",
     "text": [
      "Sub-fields in AI are:\n",
      "Machine Learning\n",
      "Neural Networks\n",
      "Vision\n",
      "Robotics\n",
      "Speech Processing\n",
      "Natural Language Processing\n"
     ]
    }
   ],
   "source": [
    "SubfieldsInAI.Subfields()"
   ]
  },
  {
   "cell_type": "code",
   "execution_count": null,
   "id": "ed88303b-e2e5-42ba-8796-02b35b38f144",
   "metadata": {},
   "outputs": [],
   "source": [
    "# Create a function that checks whether the given number is Odd or Even"
   ]
  },
  {
   "cell_type": "code",
   "execution_count": 7,
   "id": "fde697a0-15e3-41b0-80c8-7cf22e51ea7f",
   "metadata": {},
   "outputs": [
    {
     "name": "stdin",
     "output_type": "stream",
     "text": [
      "Enter a number:  159\n"
     ]
    },
    {
     "name": "stdout",
     "output_type": "stream",
     "text": [
      "159 is Odd number\n"
     ]
    }
   ],
   "source": [
    "Num=int(input(\"Enter a number: \"))\n",
    "if((Num%2)==0):\n",
    "    print(Num,\"is Even number\")\n",
    "else:\n",
    "    print(Num,\"is Odd number\")"
   ]
  },
  {
   "cell_type": "code",
   "execution_count": 9,
   "id": "fbe73294-7288-4a70-b0a5-a7aad8f98172",
   "metadata": {},
   "outputs": [],
   "source": [
    "def evenodd():\n",
    "    Num=int(input(\"Enter a number: \"))\n",
    "    if((Num%2)==0):\n",
    "        print(Num,\"is Even number\")\n",
    "        answer=Num,\"is Even number\"\n",
    "    else:\n",
    "        print(Num,\"is Odd number\")\n",
    "        answer=Num,\"is Odd number\"\n",
    "    return answer"
   ]
  },
  {
   "cell_type": "code",
   "execution_count": 13,
   "id": "ff9eddee-0779-4b86-a57a-cb974064a3d7",
   "metadata": {},
   "outputs": [
    {
     "name": "stdin",
     "output_type": "stream",
     "text": [
      "Enter a number:  15997\n"
     ]
    },
    {
     "name": "stdout",
     "output_type": "stream",
     "text": [
      "15997 is Odd number\n"
     ]
    },
    {
     "data": {
      "text/plain": [
       "(15997, 'is Odd number')"
      ]
     },
     "execution_count": 13,
     "metadata": {},
     "output_type": "execute_result"
    }
   ],
   "source": [
    "evenodd()"
   ]
  },
  {
   "cell_type": "code",
   "execution_count": 16,
   "id": "e0bf5512-8b5a-4cd1-96f1-6e0008c2ffec",
   "metadata": {},
   "outputs": [
    {
     "name": "stdin",
     "output_type": "stream",
     "text": [
      "Enter a number:  150\n"
     ]
    },
    {
     "name": "stdout",
     "output_type": "stream",
     "text": [
      "150 is Even number\n"
     ]
    }
   ],
   "source": [
    "answer=evenodd()"
   ]
  },
  {
   "cell_type": "code",
   "execution_count": 17,
   "id": "f69ffccd-5771-42df-acc3-bcc314630445",
   "metadata": {},
   "outputs": [
    {
     "name": "stdout",
     "output_type": "stream",
     "text": [
      "(150, 'is Even number')\n"
     ]
    }
   ],
   "source": [
    "print(answer)"
   ]
  },
  {
   "cell_type": "code",
   "execution_count": 18,
   "id": "f6f08c00-9e46-465a-a7de-6650c88fa754",
   "metadata": {},
   "outputs": [],
   "source": [
    "class oddeven():\n",
    "    def evenodd():\n",
    "        Num=int(input(\"Enter a number: \"))\n",
    "        if((Num%2)==0):\n",
    "            print(Num,\"is Even number\")\n",
    "            answer=Num,\"is Even number\"\n",
    "        else:\n",
    "            print(Num,\"is Odd number\")\n",
    "            answer=Num,\"is Odd number\"\n",
    "        return answer    "
   ]
  },
  {
   "cell_type": "code",
   "execution_count": 21,
   "id": "00e5d2fc-c26a-42b7-a095-71361b46b2eb",
   "metadata": {},
   "outputs": [
    {
     "name": "stdin",
     "output_type": "stream",
     "text": [
      "Enter a number:  156\n"
     ]
    },
    {
     "name": "stdout",
     "output_type": "stream",
     "text": [
      "156 is Even number\n"
     ]
    },
    {
     "data": {
      "text/plain": [
       "(156, 'is Even number')"
      ]
     },
     "execution_count": 21,
     "metadata": {},
     "output_type": "execute_result"
    }
   ],
   "source": [
    "oddeven.evenodd()"
   ]
  },
  {
   "cell_type": "code",
   "execution_count": 22,
   "id": "3c9329ac-cf44-46ef-b2ec-08fd7081d251",
   "metadata": {},
   "outputs": [
    {
     "name": "stdin",
     "output_type": "stream",
     "text": [
      "Enter a number:  157\n"
     ]
    },
    {
     "name": "stdout",
     "output_type": "stream",
     "text": [
      "157 is Odd number\n"
     ]
    }
   ],
   "source": [
    "ans=oddeven.evenodd()"
   ]
  },
  {
   "cell_type": "code",
   "execution_count": 23,
   "id": "0ea62869-812d-47b0-b825-2cc122200e68",
   "metadata": {},
   "outputs": [
    {
     "name": "stdout",
     "output_type": "stream",
     "text": [
      "(157, 'is Odd number')\n"
     ]
    }
   ],
   "source": [
    "print(ans)"
   ]
  },
  {
   "cell_type": "code",
   "execution_count": null,
   "id": "218144af-21e6-4d14-9e13-eb5c1388fdee",
   "metadata": {},
   "outputs": [],
   "source": [
    "# Create a function that tells elegibility of marriage for male and female according to their -\n",
    "# - age limit like 21 for male and 18 for female"
   ]
  },
  {
   "cell_type": "code",
   "execution_count": 28,
   "id": "23c99603-1e07-4ae7-823a-766dcb2a6104",
   "metadata": {},
   "outputs": [
    {
     "name": "stdin",
     "output_type": "stream",
     "text": [
      "Enter the Gender: Male\n",
      "Enter the AGe: 21\n"
     ]
    },
    {
     "name": "stdout",
     "output_type": "stream",
     "text": [
      "ELIGIBLE\n"
     ]
    }
   ],
   "source": [
    "Gender=input(\"Enter the Gender:\")\n",
    "Age=int(input(\"Enter the AGe:\"))\n",
    "if(Gender==\"Male\" and Age>21):\n",
    "    print(\"ELIGIBLE\")\n",
    "elif(Gender==\"Male\" and Age<21):\n",
    "    print(\"NOT ELIGIBLE\")\n",
    "elif(Gender==\"Female\" and Age<18):\n",
    "    print(\"NOT ELIGIBLE\")    \n",
    "else:\n",
    "    print(\"ELIGIBLE\")"
   ]
  },
  {
   "cell_type": "code",
   "execution_count": 29,
   "id": "05ab6605-04cc-4109-8ffc-3bf82574b603",
   "metadata": {},
   "outputs": [],
   "source": [
    "def Eligible():\n",
    "    Gender=input(\"Enter the Gender:\")\n",
    "    Age=int(input(\"Enter the AGe:\"))\n",
    "    if(Gender==\"Male\" and Age>21):\n",
    "        print(\"ELIGIBLE\")\n",
    "        Message=\"ELIGIBLE\"\n",
    "    elif(Gender==\"Male\" and Age<21):\n",
    "        print(\"NOT ELIGIBLE\")\n",
    "        Message=\"NOT ELIGIBLE\"\n",
    "    elif(Gender==\"Female\" and Age<18):\n",
    "        print(\"NOT ELIGIBLE\")\n",
    "        Message=\"NOT ELIGIBLE\"\n",
    "    else:\n",
    "        print(\"ELIGIBLE\")\n",
    "        Message=\"ELIGIBLE\"\n",
    "    return Message"
   ]
  },
  {
   "cell_type": "code",
   "execution_count": 30,
   "id": "6329266a-1c7d-478a-9a3f-abb3278d5211",
   "metadata": {},
   "outputs": [
    {
     "name": "stdin",
     "output_type": "stream",
     "text": [
      "Enter the Gender: Male\n",
      "Enter the AGe: 29\n"
     ]
    },
    {
     "name": "stdout",
     "output_type": "stream",
     "text": [
      "ELIGIBLE\n"
     ]
    },
    {
     "data": {
      "text/plain": [
       "'ELIGIBLE'"
      ]
     },
     "execution_count": 30,
     "metadata": {},
     "output_type": "execute_result"
    }
   ],
   "source": [
    "Eligible()"
   ]
  },
  {
   "cell_type": "code",
   "execution_count": 31,
   "id": "4b25ef78-895b-4939-9d92-03ec06cd0fcd",
   "metadata": {},
   "outputs": [
    {
     "name": "stdin",
     "output_type": "stream",
     "text": [
      "Enter the Gender: Female\n",
      "Enter the AGe: 17\n"
     ]
    },
    {
     "name": "stdout",
     "output_type": "stream",
     "text": [
      "NOT ELIGIBLE\n"
     ]
    }
   ],
   "source": [
    "Message=Eligible()"
   ]
  },
  {
   "cell_type": "code",
   "execution_count": 32,
   "id": "5475243d-5b37-49cb-a292-2a0a475a8b10",
   "metadata": {},
   "outputs": [
    {
     "name": "stdout",
     "output_type": "stream",
     "text": [
      "NOT ELIGIBLE\n"
     ]
    }
   ],
   "source": [
    "print(Message)"
   ]
  },
  {
   "cell_type": "code",
   "execution_count": 33,
   "id": "f36a349e-e0e4-4826-9987-c99696f42aa4",
   "metadata": {},
   "outputs": [],
   "source": [
    "class Eligibleformarriage():\n",
    "    def Eligible():\n",
    "        Gender=input(\"Enter the Gender:\")\n",
    "        Age=int(input(\"Enter the AGe:\"))\n",
    "        if(Gender==\"Male\" and Age>21):\n",
    "            print(\"ELIGIBLE\")\n",
    "            Message=\"ELIGIBLE\"\n",
    "        elif(Gender==\"Male\" and Age<21):\n",
    "            print(\"NOT ELIGIBLE\")\n",
    "            Message=\"NOT ELIGIBLE\"\n",
    "        elif(Gender==\"Female\" and Age<18):\n",
    "            print(\"NOT ELIGIBLE\")\n",
    "            Message=\"NOT ELIGIBLE\"\n",
    "        else:\n",
    "            print(\"ELIGIBLE\")\n",
    "            Message=\"ELIGIBLE\"\n",
    "        return Message        "
   ]
  },
  {
   "cell_type": "code",
   "execution_count": 35,
   "id": "f0fa2bfe-4062-43d6-9840-fc1c22397b1f",
   "metadata": {},
   "outputs": [
    {
     "name": "stdin",
     "output_type": "stream",
     "text": [
      "Enter the Gender: Male\n",
      "Enter the AGe: 21\n"
     ]
    },
    {
     "name": "stdout",
     "output_type": "stream",
     "text": [
      "ELIGIBLE\n"
     ]
    },
    {
     "data": {
      "text/plain": [
       "'ELIGIBLE'"
      ]
     },
     "execution_count": 35,
     "metadata": {},
     "output_type": "execute_result"
    }
   ],
   "source": [
    "Eligibleformarriage.Eligible()"
   ]
  },
  {
   "cell_type": "code",
   "execution_count": 36,
   "id": "957feb42-087b-4998-a4f4-24be0b1747f6",
   "metadata": {},
   "outputs": [
    {
     "name": "stdin",
     "output_type": "stream",
     "text": [
      "Enter the Gender: Female\n",
      "Enter the AGe: 18\n"
     ]
    },
    {
     "name": "stdout",
     "output_type": "stream",
     "text": [
      "ELIGIBLE\n"
     ]
    }
   ],
   "source": [
    "Message=Eligibleformarriage.Eligible()"
   ]
  },
  {
   "cell_type": "code",
   "execution_count": null,
   "id": "d9d50166-672b-4c12-9f9b-006d4ddeb3ee",
   "metadata": {},
   "outputs": [],
   "source": [
    "# calculate the percentage of your 10th mark"
   ]
  },
  {
   "cell_type": "code",
   "execution_count": 39,
   "id": "39d4463f-e289-42b2-93e3-9b9d438712d0",
   "metadata": {},
   "outputs": [
    {
     "name": "stdin",
     "output_type": "stream",
     "text": [
      "Subject1= 98\n",
      "Subject2= 87\n",
      "Subject3= 95\n",
      "Subject4= 95\n",
      "Subject5= 93\n"
     ]
    },
    {
     "name": "stdout",
     "output_type": "stream",
     "text": [
      "Total : 468\n",
      "Percentage : 93.60000000000001\n"
     ]
    }
   ],
   "source": [
    "S1=int(input(\"Subject1=\"))\n",
    "S2=int(input(\"Subject2=\"))\n",
    "S3=int(input(\"Subject3=\"))\n",
    "S4=int(input(\"Subject4=\"))\n",
    "S5=int(input(\"Subject5=\"))\n",
    "Total=S1+S2+S3+S4+S5\n",
    "Percentage=(Total/500)*100\n",
    "print(\"Total :\",Total)\n",
    "print(\"Percentage :\",Percentage)"
   ]
  },
  {
   "cell_type": "code",
   "execution_count": 40,
   "id": "702468fd-25a6-419c-84f2-91d7783d86f6",
   "metadata": {},
   "outputs": [],
   "source": [
    "def percentage():\n",
    "    S1=int(input(\"Subject1=\"))\n",
    "    S2=int(input(\"Subject2=\"))\n",
    "    S3=int(input(\"Subject3=\"))\n",
    "    S4=int(input(\"Subject4=\"))\n",
    "    S5=int(input(\"Subject5=\"))\n",
    "    Total=S1+S2+S3+S4+S5\n",
    "    Percentage=(Total/500)*100\n",
    "    print(\"Total :\",Total)\n",
    "    print(\"Percentage :\",Percentage)    "
   ]
  },
  {
   "cell_type": "code",
   "execution_count": 41,
   "id": "9050d726-925d-43e2-bfd7-015b11d01787",
   "metadata": {},
   "outputs": [
    {
     "name": "stdin",
     "output_type": "stream",
     "text": [
      "Subject1= 98\n",
      "Subject2= 87\n",
      "Subject3= 95\n",
      "Subject4= 95\n",
      "Subject5= 93\n"
     ]
    },
    {
     "name": "stdout",
     "output_type": "stream",
     "text": [
      "Total : 468\n",
      "Percentage : 93.60000000000001\n"
     ]
    }
   ],
   "source": [
    "percentage()"
   ]
  },
  {
   "cell_type": "code",
   "execution_count": 42,
   "id": "9ea31d93-2e3f-4ffc-b11b-df3eb1a07923",
   "metadata": {},
   "outputs": [],
   "source": [
    "class Findpercentage():\n",
    "    def percentage():\n",
    "        S1=int(input(\"Subject1=\"))\n",
    "        S2=int(input(\"Subject2=\"))\n",
    "        S3=int(input(\"Subject3=\"))\n",
    "        S4=int(input(\"Subject4=\"))\n",
    "        S5=int(input(\"Subject5=\"))\n",
    "        Total=S1+S2+S3+S4+S5\n",
    "        Percentage=(Total/500)*100\n",
    "        print(\"Total :\",Total)\n",
    "        print(\"Percentage :\",Percentage)"
   ]
  },
  {
   "cell_type": "code",
   "execution_count": 43,
   "id": "213740ae-ec7c-4168-b4d7-1afc04489d3b",
   "metadata": {},
   "outputs": [
    {
     "name": "stdin",
     "output_type": "stream",
     "text": [
      "Subject1= 98\n",
      "Subject2= 95\n",
      "Subject3= 95\n",
      "Subject4= 87\n",
      "Subject5= 93\n"
     ]
    },
    {
     "name": "stdout",
     "output_type": "stream",
     "text": [
      "Total : 468\n",
      "Percentage : 93.60000000000001\n"
     ]
    }
   ],
   "source": [
    "Findpercentage.percentage()"
   ]
  },
  {
   "cell_type": "code",
   "execution_count": 44,
   "id": "a84920c0-af94-4700-88d9-2f9ff0a37fca",
   "metadata": {},
   "outputs": [],
   "source": [
    "#print area and perimeter of triangle using class and functions"
   ]
  },
  {
   "cell_type": "code",
   "execution_count": 46,
   "id": "4eaa5b0d-b982-4321-9860-14b92b4fb257",
   "metadata": {},
   "outputs": [
    {
     "name": "stdin",
     "output_type": "stream",
     "text": [
      "Height: 32\n",
      "Breadth: 34\n"
     ]
    },
    {
     "name": "stdout",
     "output_type": "stream",
     "text": [
      "Area formula: (Height*Breadth)/2\n",
      "Area of Triangle: 544.0\n"
     ]
    },
    {
     "name": "stdin",
     "output_type": "stream",
     "text": [
      "Height1: 2\n",
      "Height2: 4\n",
      "Breadth: 4\n"
     ]
    },
    {
     "name": "stdout",
     "output_type": "stream",
     "text": [
      "Perimeter formula: Height1+Height2+Breadth\n",
      "Perimeter of Triangle: 10\n"
     ]
    }
   ],
   "source": [
    "h=int(input(\"Height:\"))\n",
    "b=int(input(\"Breadth:\"))\n",
    "print(\"Area formula: (Height*Breadth)/2\")\n",
    "A=(h*b)/2\n",
    "print(\"Area of Triangle:\",A)\n",
    "h1=int(input(\"Height1:\"))\n",
    "h2=int(input(\"Height2:\"))\n",
    "b1=int(input(\"Breadth:\"))\n",
    "print(\"Perimeter formula: Height1+Height2+Breadth\")\n",
    "B=h1+h2+b1\n",
    "print(\"Perimeter of Triangle:\",B)"
   ]
  },
  {
   "cell_type": "code",
   "execution_count": 51,
   "id": "a13e9917-dcb4-4eb3-ab5d-8c1970a31fff",
   "metadata": {},
   "outputs": [],
   "source": [
    "def Triangle():\n",
    "    h=int(input(\"Height:\"))\n",
    "    b=int(input(\"Breadth:\"))\n",
    "    print(\"Area formula: (Height*Breadth)/2\")\n",
    "    A=(h*b)/2\n",
    "    print(\"Area of Triangle:\",A)\n",
    "    h1=int(input(\"Height1:\"))\n",
    "    h2=int(input(\"Height2:\"))\n",
    "    b1=int(input(\"Breadth:\"))\n",
    "    print(\"Perimeter formula: Height1+Height2+Breadth\")\n",
    "    B=h1+h2+b1\n",
    "    print(\"Perimeter of Triangle:\",B)    "
   ]
  },
  {
   "cell_type": "code",
   "execution_count": 52,
   "id": "538cd68e-cb31-4fa3-9905-2b80c01f4658",
   "metadata": {},
   "outputs": [
    {
     "name": "stdin",
     "output_type": "stream",
     "text": [
      "Height: 32\n",
      "Breadth: 34\n"
     ]
    },
    {
     "name": "stdout",
     "output_type": "stream",
     "text": [
      "Area formula: (Height*Breadth)/2\n",
      "Area of Triangle: 544.0\n"
     ]
    },
    {
     "name": "stdin",
     "output_type": "stream",
     "text": [
      "Height1: 2\n",
      "Height2: 4\n",
      "Breadth: 4\n"
     ]
    },
    {
     "name": "stdout",
     "output_type": "stream",
     "text": [
      "Perimeter formula: Height1+Height2+Breadth\n",
      "Perimeter of Triangle: 10\n"
     ]
    }
   ],
   "source": [
    "Triangle()"
   ]
  },
  {
   "cell_type": "code",
   "execution_count": 53,
   "id": "4299bf2a-bfa6-4b0a-8406-ae1109e686fe",
   "metadata": {},
   "outputs": [],
   "source": [
    "class PerimeterTriangle():\n",
    "    def Triangle():\n",
    "        h=int(input(\"Height:\"))\n",
    "        b=int(input(\"Breadth:\"))\n",
    "        print(\"Area formula: (Height*Breadth)/2\")\n",
    "        A=(h*b)/2\n",
    "        print(\"Area of Triangle:\",A)\n",
    "        h1=int(input(\"Height1:\"))\n",
    "        h2=int(input(\"Height2:\"))\n",
    "        b1=int(input(\"Breadth:\"))\n",
    "        print(\"Perimeter formula: Height1+Height2+Breadth\")\n",
    "        B=h1+h2+b1\n",
    "        print(\"Perimeter of Triangle:\",B)"
   ]
  },
  {
   "cell_type": "code",
   "execution_count": 54,
   "id": "bc83ef58-f085-4e56-9f5a-6038eb8cf514",
   "metadata": {},
   "outputs": [
    {
     "name": "stdin",
     "output_type": "stream",
     "text": [
      "Height: 32\n",
      "Breadth: 34\n"
     ]
    },
    {
     "name": "stdout",
     "output_type": "stream",
     "text": [
      "Area formula: (Height*Breadth)/2\n",
      "Area of Triangle: 544.0\n"
     ]
    },
    {
     "name": "stdin",
     "output_type": "stream",
     "text": [
      "Height1: 2\n",
      "Height2: 4\n",
      "Breadth: 4\n"
     ]
    },
    {
     "name": "stdout",
     "output_type": "stream",
     "text": [
      "Perimeter formula: Height1+Height2+Breadth\n",
      "Perimeter of Triangle: 10\n"
     ]
    }
   ],
   "source": [
    "PerimeterTriangle.Triangle()"
   ]
  }
 ],
 "metadata": {
  "kernelspec": {
   "display_name": "Python [conda env:base] *",
   "language": "python",
   "name": "conda-base-py"
  },
  "language_info": {
   "codemirror_mode": {
    "name": "ipython",
    "version": 3
   },
   "file_extension": ".py",
   "mimetype": "text/x-python",
   "name": "python",
   "nbconvert_exporter": "python",
   "pygments_lexer": "ipython3",
   "version": "3.13.5"
  }
 },
 "nbformat": 4,
 "nbformat_minor": 5
}
