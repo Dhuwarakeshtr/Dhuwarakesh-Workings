{
 "cells": [
  {
   "cell_type": "code",
   "execution_count": 3,
   "id": "68b5688e-9f18-445a-8e1f-ef745da4f5ed",
   "metadata": {},
   "outputs": [],
   "source": [
    "from Class2Assignments1 import SetOfFunctions"
   ]
  },
  {
   "cell_type": "code",
   "execution_count": 4,
   "id": "5a786211-d1fb-4400-9141-4145d511dbd3",
   "metadata": {},
   "outputs": [
    {
     "name": "stdin",
     "output_type": "stream",
     "text": [
      "Height: 32\n",
      "Breadth: 34\n"
     ]
    },
    {
     "name": "stdout",
     "output_type": "stream",
     "text": [
      "Area formula: (Height*Breadth)/2\n",
      "Area of Triangle: 544.0\n"
     ]
    },
    {
     "name": "stdin",
     "output_type": "stream",
     "text": [
      "Height1: 2\n",
      "Height2: 4\n",
      "Breadth: 4\n"
     ]
    },
    {
     "name": "stdout",
     "output_type": "stream",
     "text": [
      "Perimeter formula: Height1+Height2+Breadth\n",
      "Perimeter of Triangle: 10\n"
     ]
    }
   ],
   "source": [
    "SetOfFunctions.Triangle()"
   ]
  },
  {
   "cell_type": "code",
   "execution_count": 6,
   "id": "a55562d0-cba1-4055-8223-60f07dacca13",
   "metadata": {},
   "outputs": [
    {
     "name": "stdin",
     "output_type": "stream",
     "text": [
      "Subject1= 98\n",
      "Subject2= 87\n",
      "Subject3= 95\n",
      "Subject4= 95\n",
      "Subject5= 93\n"
     ]
    },
    {
     "name": "stdout",
     "output_type": "stream",
     "text": [
      "Total : 468\n",
      "Percentage : 93.60000000000001\n"
     ]
    }
   ],
   "source": [
    "SetOfFunctions.percentage()"
   ]
  },
  {
   "cell_type": "code",
   "execution_count": 7,
   "id": "84262790-9b5f-4edb-8134-f63aa9f78f4a",
   "metadata": {},
   "outputs": [
    {
     "name": "stdin",
     "output_type": "stream",
     "text": [
      "Enter the Gender: Male\n",
      "Enter the AGe: 27\n"
     ]
    },
    {
     "name": "stdout",
     "output_type": "stream",
     "text": [
      "ELIGIBLE\n"
     ]
    },
    {
     "data": {
      "text/plain": [
       "'ELIGIBLE'"
      ]
     },
     "execution_count": 7,
     "metadata": {},
     "output_type": "execute_result"
    }
   ],
   "source": [
    "SetOfFunctions.Eligible()"
   ]
  },
  {
   "cell_type": "code",
   "execution_count": 8,
   "id": "6613703d-8c0d-4f9f-b509-15c298a4907e",
   "metadata": {},
   "outputs": [
    {
     "name": "stdin",
     "output_type": "stream",
     "text": [
      "Enter a number:  15479\n"
     ]
    },
    {
     "name": "stdout",
     "output_type": "stream",
     "text": [
      "15479 is Odd number\n"
     ]
    },
    {
     "data": {
      "text/plain": [
       "(15479, 'is Odd number')"
      ]
     },
     "execution_count": 8,
     "metadata": {},
     "output_type": "execute_result"
    }
   ],
   "source": [
    "SetOfFunctions.evenodd()"
   ]
  },
  {
   "cell_type": "code",
   "execution_count": 9,
   "id": "4b973332-4e4a-44de-ae4e-a2f757fb0b43",
   "metadata": {},
   "outputs": [
    {
     "name": "stdout",
     "output_type": "stream",
     "text": [
      "Sub-fields in AI are:\n",
      "Machine Learning\n",
      "Neural Networks\n",
      "Vision\n",
      "Robotics\n",
      "Speech Processing\n",
      "Natural Language Processing\n"
     ]
    }
   ],
   "source": [
    "SetOfFunctions.Subfields()"
   ]
  },
  {
   "cell_type": "code",
   "execution_count": null,
   "id": "ce355ca3-bf6b-4fd2-a8e3-1d58e9b52d62",
   "metadata": {},
   "outputs": [],
   "source": []
  }
 ],
 "metadata": {
  "kernelspec": {
   "display_name": "Python [conda env:base] *",
   "language": "python",
   "name": "conda-base-py"
  },
  "language_info": {
   "codemirror_mode": {
    "name": "ipython",
    "version": 3
   },
   "file_extension": ".py",
   "mimetype": "text/x-python",
   "name": "python",
   "nbconvert_exporter": "python",
   "pygments_lexer": "ipython3",
   "version": "3.13.5"
  }
 },
 "nbformat": 4,
 "nbformat_minor": 5
}
