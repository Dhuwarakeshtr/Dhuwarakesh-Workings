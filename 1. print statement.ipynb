{
 "cells": [
  {
   "cell_type": "code",
   "execution_count": 1,
   "id": "2f4469f6-c4b3-4502-a839-d3d77874b140",
   "metadata": {},
   "outputs": [
    {
     "name": "stdout",
     "output_type": "stream",
     "text": [
      "Welcome To Learn AI\n"
     ]
    }
   ],
   "source": [
    "print(\"Welcome To Learn AI\")"
   ]
  },
  {
   "cell_type": "code",
   "execution_count": 2,
   "id": "d0230a17-8c5f-4c5c-8961-5113fe5cf83e",
   "metadata": {},
   "outputs": [
    {
     "name": "stdout",
     "output_type": "stream",
     "text": [
      "Hello Dhuwarakesh\n"
     ]
    }
   ],
   "source": [
    "print(\"Hello Dhuwarakesh\")"
   ]
  },
  {
   "cell_type": "code",
   "execution_count": null,
   "id": "da244e09-6d0c-4ba1-a8b1-7a8d44404dff",
   "metadata": {},
   "outputs": [],
   "source": []
  }
 ],
 "metadata": {
  "kernelspec": {
   "display_name": "Python [conda env:base] *",
   "language": "python",
   "name": "conda-base-py"
  },
  "language_info": {
   "codemirror_mode": {
    "name": "ipython",
    "version": 3
   },
   "file_extension": ".py",
   "mimetype": "text/x-python",
   "name": "python",
   "nbconvert_exporter": "python",
   "pygments_lexer": "ipython3",
   "version": "3.13.5"
  }
 },
 "nbformat": 4,
 "nbformat_minor": 5
}
