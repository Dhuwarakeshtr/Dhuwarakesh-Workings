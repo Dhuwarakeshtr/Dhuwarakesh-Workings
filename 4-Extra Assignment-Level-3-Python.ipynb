{
 "cells": [
  {
   "cell_type": "code",
   "execution_count": 4,
   "id": "ffa2c2e4-4f53-4034-b456-6e1a11bd15f2",
   "metadata": {},
   "outputs": [
    {
     "name": "stdin",
     "output_type": "stream",
     "text": [
      "Value = 10\n"
     ]
    },
    {
     "name": "stdout",
     "output_type": "stream",
     "text": [
      "Correct\n"
     ]
    }
   ],
   "source": [
    "Value=int(input(\"Value =\"))\n",
    "if(Value==10):\n",
    "    print(\"Correct\")\n",
    "else:\n",
    "    print(\"Wrong\")"
   ]
  },
  {
   "cell_type": "code",
   "execution_count": 17,
   "id": "5741663a-95b0-4c4b-876d-d33dac02de75",
   "metadata": {},
   "outputs": [
    {
     "name": "stdin",
     "output_type": "stream",
     "text": [
      "Enter the password = Hope@123\n"
     ]
    },
    {
     "name": "stdout",
     "output_type": "stream",
     "text": [
      "Your password is correct\n"
     ]
    }
   ],
   "source": [
    "Password=input(\"Enter the password =\")\n",
    "if(Password==\"Hope@123\"):\n",
    "    print(\"Your password is correct\")\n",
    "else:\n",
    "    print(\"Please use correct Password\")"
   ]
  },
  {
   "cell_type": "code",
   "execution_count": 33,
   "id": "d10f2e49-8df2-4df0-92e9-970328da92bd",
   "metadata": {},
   "outputs": [
    {
     "name": "stdin",
     "output_type": "stream",
     "text": [
      "Enter the Age:  20\n"
     ]
    },
    {
     "name": "stdout",
     "output_type": "stream",
     "text": [
      "Adult\n"
     ]
    }
   ],
   "source": [
    "Age=int(input(\"Enter the Age: \"))\n",
    "if(Age<18):\n",
    "    print(\"Child\")\n",
    "elif(Age<=39):\n",
    "    print(\"Adult\")\n",
    "elif(Age<=59):\n",
    "    print(\"Citizen\")\n",
    "else:\n",
    "    print(\"Senior Citizen\")"
   ]
  },
  {
   "cell_type": "code",
   "execution_count": 43,
   "id": "0f45a507-2812-495b-b321-0167d7c2a071",
   "metadata": {},
   "outputs": [
    {
     "name": "stdin",
     "output_type": "stream",
     "text": [
      "Enter any number : 1\n"
     ]
    },
    {
     "name": "stdout",
     "output_type": "stream",
     "text": [
      "The entered number is Positive\n"
     ]
    }
   ],
   "source": [
    "Num=int(input(\"Enter any number :\"))\n",
    "if(Num>=0):\n",
    "    print(\"The entered number is Positive\")\n",
    "else:\n",
    "    print(\"The entered number is Negative\")"
   ]
  },
  {
   "cell_type": "code",
   "execution_count": 53,
   "id": "1842d7e8-299f-46bf-a43f-1e8310c674a8",
   "metadata": {},
   "outputs": [
    {
     "name": "stdin",
     "output_type": "stream",
     "text": [
      "Enter a number to check : 90\n"
     ]
    },
    {
     "name": "stdout",
     "output_type": "stream",
     "text": [
      "The given number is divisible by 5\n"
     ]
    }
   ],
   "source": [
    "num=int(input(\"Enter a number to check :\"))\n",
    "if((num%5)==0):\n",
    "    print(\"The given number is divisible by 5\")\n",
    "else:\n",
    "    print(\"The given number is not divisible by 5\")"
   ]
  },
  {
   "cell_type": "code",
   "execution_count": null,
   "id": "8fd53e53-a026-47fe-b335-bfa4033c59ba",
   "metadata": {},
   "outputs": [],
   "source": []
  }
 ],
 "metadata": {
  "kernelspec": {
   "display_name": "Python [conda env:base] *",
   "language": "python",
   "name": "conda-base-py"
  },
  "language_info": {
   "codemirror_mode": {
    "name": "ipython",
    "version": 3
   },
   "file_extension": ".py",
   "mimetype": "text/x-python",
   "name": "python",
   "nbconvert_exporter": "python",
   "pygments_lexer": "ipython3",
   "version": "3.13.5"
  }
 },
 "nbformat": 4,
 "nbformat_minor": 5
}
