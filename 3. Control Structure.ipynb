{
 "cells": [
  {
   "cell_type": "code",
   "execution_count": 1,
   "id": "df41337b-ef46-4069-8538-034335ae4d2e",
   "metadata": {},
   "outputs": [],
   "source": [
    "#if\n",
    "if():\n",
    "    print()"
   ]
  },
  {
   "cell_type": "code",
   "execution_count": 2,
   "id": "ef37c105-2474-47c3-9cdd-e6f849a6f87c",
   "metadata": {},
   "outputs": [
    {
     "ename": "NameError",
     "evalue": "name 'age' is not defined",
     "output_type": "error",
     "traceback": [
      "\u001b[1;31m---------------------------------------------------------------------------\u001b[0m",
      "\u001b[1;31mNameError\u001b[0m                                 Traceback (most recent call last)",
      "Cell \u001b[1;32mIn[2], line 1\u001b[0m\n\u001b[1;32m----> 1\u001b[0m \u001b[38;5;28;01mif\u001b[39;00m(age\u001b[38;5;241m==\u001b[39m\u001b[38;5;241m18\u001b[39m):\n\u001b[0;32m      2\u001b[0m     \u001b[38;5;28mprint\u001b[39m(\u001b[38;5;124m\"\u001b[39m\u001b[38;5;124mAdult\u001b[39m\u001b[38;5;124m\"\u001b[39m)\n",
      "\u001b[1;31mNameError\u001b[0m: name 'age' is not defined"
     ]
    }
   ],
   "source": [
    "#age variable memory don't have value in it.\n",
    "if(age==18):\n",
    "    print(\"Adult\")"
   ]
  },
  {
   "cell_type": "code",
   "execution_count": 3,
   "id": "52de2969-9bde-4132-b5a6-4d5e54b10724",
   "metadata": {},
   "outputs": [
    {
     "name": "stdin",
     "output_type": "stream",
     "text": [
      "Enter the Age : 18\n"
     ]
    },
    {
     "ename": "TypeError",
     "evalue": "'<=' not supported between instances of 'str' and 'int'",
     "output_type": "error",
     "traceback": [
      "\u001b[1;31m---------------------------------------------------------------------------\u001b[0m",
      "\u001b[1;31mTypeError\u001b[0m                                 Traceback (most recent call last)",
      "Cell \u001b[1;32mIn[3], line 2\u001b[0m\n\u001b[0;32m      1\u001b[0m Age\u001b[38;5;241m=\u001b[39m\u001b[38;5;28minput\u001b[39m(\u001b[38;5;124m\"\u001b[39m\u001b[38;5;124mEnter the Age :\u001b[39m\u001b[38;5;124m\"\u001b[39m)\n\u001b[1;32m----> 2\u001b[0m \u001b[38;5;28;01mif\u001b[39;00m(Age\u001b[38;5;241m<\u001b[39m\u001b[38;5;241m=\u001b[39m\u001b[38;5;241m18\u001b[39m):\n\u001b[0;32m      3\u001b[0m     \u001b[38;5;28mprint\u001b[39m(\u001b[38;5;124m\"\u001b[39m\u001b[38;5;124mAdult\u001b[39m\u001b[38;5;124m\"\u001b[39m)\n",
      "\u001b[1;31mTypeError\u001b[0m: '<=' not supported between instances of 'str' and 'int'"
     ]
    }
   ],
   "source": [
    "#The input value will be considered as \"STRING\".\n",
    "Age=input(\"Enter the Age :\")\n",
    "if(Age<=18):\n",
    "    print(\"Adult\")"
   ]
  },
  {
   "cell_type": "code",
   "execution_count": 12,
   "id": "2e2ac691-5d0f-42b2-bc69-0fbedeac1cb1",
   "metadata": {},
   "outputs": [
    {
     "name": "stdin",
     "output_type": "stream",
     "text": [
      "Enter the Age : 26\n"
     ]
    },
    {
     "name": "stdout",
     "output_type": "stream",
     "text": [
      "Adult\n"
     ]
    }
   ],
   "source": [
    "#Always use \"int\" before the \"input\" whenever we are using number related inputs.\n",
    "Age=int(input(\"Enter the Age :\"))\n",
    "if(Age>=18):\n",
    "    print(\"Adult\")"
   ]
  },
  {
   "cell_type": "code",
   "execution_count": 18,
   "id": "3a073ab9-376b-4fbd-9938-c1a00a029eab",
   "metadata": {},
   "outputs": [
    {
     "name": "stdout",
     "output_type": "stream",
     "text": [
      "\n"
     ]
    }
   ],
   "source": [
    "#if-else\n",
    "if(): #Holds the condition\n",
    "    print()\n",
    "else: #Do not hold condition\n",
    "    print()"
   ]
  },
  {
   "cell_type": "code",
   "execution_count": 13,
   "id": "cc2f787f-0a7c-4b87-8bd3-361206398d01",
   "metadata": {},
   "outputs": [
    {
     "name": "stdout",
     "output_type": "stream",
     "text": [
      "Adult\n"
     ]
    }
   ],
   "source": [
    "if(Age>=18):\n",
    "    print(\"Adult\")\n",
    "else:\n",
    "    print(\"Child\")\n",
    "        "
   ]
  },
  {
   "cell_type": "code",
   "execution_count": 19,
   "id": "7ad45c5c-1fee-4f6c-a9ef-89f373200f8c",
   "metadata": {},
   "outputs": [
    {
     "name": "stdin",
     "output_type": "stream",
     "text": [
      "Enter the Age : 16\n"
     ]
    },
    {
     "name": "stdout",
     "output_type": "stream",
     "text": [
      "Child\n"
     ]
    }
   ],
   "source": [
    "Age=int(input(\"Enter the Age :\"))\n",
    "if(Age>=18):\n",
    "    print(\"Adult\")\n",
    "else:\n",
    "    print(\"Child\")"
   ]
  },
  {
   "cell_type": "code",
   "execution_count": 20,
   "id": "f0eb5e04-3201-4f04-9f31-59aa78cafdb8",
   "metadata": {},
   "outputs": [],
   "source": [
    "#if-elif\n",
    "if(): # holds the conditon\n",
    "    print()\n",
    "elif(): # holds the conditon\n",
    "    print()\n",
    "elif(): # holds the conditon\n",
    "    print()\n",
    "else(): # do not holds the conditon\n",
    "    print()"
   ]
  },
  {
   "cell_type": "code",
   "execution_count": 66,
   "id": "3abb2809-fc83-42f2-94ff-42e0b3b0e6f6",
   "metadata": {},
   "outputs": [
    {
     "name": "stdin",
     "output_type": "stream",
     "text": [
      "Enter the age : 59\n"
     ]
    },
    {
     "name": "stdout",
     "output_type": "stream",
     "text": [
      "Senior Citizen\n"
     ]
    }
   ],
   "source": [
    "Age=int(input(\"Enter the age :\"))\n",
    "if(Age<18):\n",
    "    print(\"Child\")\n",
    "elif(Age<40):\n",
    "    print(\"Adult\")\n",
    "elif(Age<59):\n",
    "    print(\"Citizen\")\n",
    "else:\n",
    "    print(\"Senior Citizen\")"
   ]
  },
  {
   "cell_type": "markdown",
   "id": "7153c2d4-41e9-48c9-858f-4d5d8b9d4ed3",
   "metadata": {},
   "source": [
    "#for-loop -> \"Multiple inputs\" used to process/run with \"one set of procedures/conditions\".\n",
    "#syntax -> for \"temp variable\" in \"main variable\"\n",
    "#for multiple inputs use closed brackets \"[]\". eg: Lists=[\"mutiple inputs\"]"
   ]
  },
  {
   "cell_type": "code",
   "execution_count": 3,
   "id": "5357de46-117f-46b4-9cee-6d612d3ff23c",
   "metadata": {},
   "outputs": [
    {
     "name": "stdout",
     "output_type": "stream",
     "text": [
      "Adult\n",
      "Citizen\n",
      "Adult\n",
      "Adult\n",
      "Senior Citizen\n",
      "Child\n",
      "Senior Citizen\n"
     ]
    }
   ],
   "source": [
    "Lists=[23,45,32,36,67,17,89]\n",
    "for Age in Lists:\n",
    "    if(Age<18):\n",
    "        print(\"Child\")\n",
    "    elif(Age<40):\n",
    "        print(\"Adult\")\n",
    "    elif(Age<59):\n",
    "        print(\"Citizen\")\n",
    "    else:\n",
    "        print(\"Senior Citizen\")"
   ]
  },
  {
   "cell_type": "code",
   "execution_count": 5,
   "id": "4c49e6da-6d91-4f21-b07c-ebc3dffed95f",
   "metadata": {},
   "outputs": [
    {
     "name": "stdout",
     "output_type": "stream",
     "text": [
      "23\n",
      "45\n",
      "32\n",
      "36\n",
      "67\n",
      "17\n",
      "89\n"
     ]
    }
   ],
   "source": [
    "for Age in Lists:\n",
    "    print(Age)"
   ]
  },
  {
   "cell_type": "code",
   "execution_count": 6,
   "id": "e56c347a-e4c2-4ccf-905d-e306ee21c036",
   "metadata": {},
   "outputs": [],
   "source": [
    "#Find out the given number is Even or Odd\n",
    "#to get the reminder values use this condition --> if((num%2)==0):"
   ]
  },
  {
   "cell_type": "code",
   "execution_count": 11,
   "id": "3e139a2a-5964-469a-90b3-f0c39df58485",
   "metadata": {},
   "outputs": [
    {
     "name": "stdin",
     "output_type": "stream",
     "text": [
      "Enter the number : 45\n"
     ]
    },
    {
     "name": "stdout",
     "output_type": "stream",
     "text": [
      "Odd Number\n"
     ]
    }
   ],
   "source": [
    "Num=int(input(\"Enter the number :\"))\n",
    "if((Num%2)==0):\n",
    "    print(\"Even Number\")\n",
    "else:\n",
    "    print(\"Odd Number\")"
   ]
  },
  {
   "cell_type": "code",
   "execution_count": 13,
   "id": "c1c92a95-ae58-47b8-ada8-9c22f7fd0b36",
   "metadata": {},
   "outputs": [
    {
     "name": "stdout",
     "output_type": "stream",
     "text": [
      "Odd Number - 15\n",
      "Even Number - 56\n",
      "Odd Number - 57\n",
      "Odd Number - 49\n",
      "Even Number - 48\n",
      "Odd Number - 15\n",
      "Odd Number - 17\n",
      "Odd Number - 35\n",
      "Even Number - 32\n",
      "Odd Number - 39\n",
      "Odd Number - 9989\n"
     ]
    }
   ],
   "source": [
    "Lists=[15,56,57,49,48,15,17,35,32,39,9989]\n",
    "for Num in Lists:\n",
    "    if((Num%2==0)):\n",
    "        print(\"Even Number -\",Num)\n",
    "    else:\n",
    "        print(\"Odd Number -\",Num)"
   ]
  },
  {
   "cell_type": "code",
   "execution_count": 14,
   "id": "0c0e728c-e36c-404e-931e-b6f2a9f23d7a",
   "metadata": {},
   "outputs": [],
   "source": [
    "#range(0,10) --> range(start,stop)\n",
    "#range(20,30,2) --> range(start,stop,step)"
   ]
  },
  {
   "cell_type": "code",
   "execution_count": 15,
   "id": "f3099424-772c-40d8-9ce3-4ea869b14315",
   "metadata": {},
   "outputs": [
    {
     "name": "stdout",
     "output_type": "stream",
     "text": [
      "20\n",
      "21\n",
      "22\n",
      "23\n",
      "24\n",
      "25\n",
      "26\n",
      "27\n",
      "28\n",
      "29\n"
     ]
    }
   ],
   "source": [
    "for Num in range(20,30):\n",
    "    print(Num)"
   ]
  },
  {
   "cell_type": "code",
   "execution_count": 16,
   "id": "1c04192e-42cc-4224-bda7-7cf1282a3cd2",
   "metadata": {},
   "outputs": [
    {
     "name": "stdout",
     "output_type": "stream",
     "text": [
      "20\n",
      "22\n",
      "24\n",
      "26\n",
      "28\n"
     ]
    }
   ],
   "source": [
    "for Num in range(20,30,2):\n",
    "    print(Num)"
   ]
  },
  {
   "cell_type": "code",
   "execution_count": null,
   "id": "e7da049d-8fcd-4cfe-9b1d-63a84135bcb2",
   "metadata": {},
   "outputs": [],
   "source": []
  }
 ],
 "metadata": {
  "kernelspec": {
   "display_name": "Python [conda env:base] *",
   "language": "python",
   "name": "conda-base-py"
  },
  "language_info": {
   "codemirror_mode": {
    "name": "ipython",
    "version": 3
   },
   "file_extension": ".py",
   "mimetype": "text/x-python",
   "name": "python",
   "nbconvert_exporter": "python",
   "pygments_lexer": "ipython3",
   "version": "3.13.5"
  }
 },
 "nbformat": 4,
 "nbformat_minor": 5
}
