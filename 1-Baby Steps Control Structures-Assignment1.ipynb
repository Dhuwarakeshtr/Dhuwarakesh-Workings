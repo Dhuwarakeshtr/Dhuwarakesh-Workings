{
 "cells": [
  {
   "cell_type": "code",
   "execution_count": 1,
   "id": "fa640065-aaf2-488f-a680-e855ef3ce888",
   "metadata": {},
   "outputs": [
    {
     "name": "stdout",
     "output_type": "stream",
     "text": [
      "Welcome to Assignment - 1\n"
     ]
    }
   ],
   "source": [
    "print(\"Welcome to Assignment - 1\")"
   ]
  },
  {
   "cell_type": "code",
   "execution_count": 3,
   "id": "3c7df4e6-579a-4afe-8e78-d1945c2e3c1f",
   "metadata": {},
   "outputs": [
    {
     "name": "stdin",
     "output_type": "stream",
     "text": [
      "Enter the Num1 = 23\n",
      "Enter the Num2 = 12\n"
     ]
    },
    {
     "name": "stdout",
     "output_type": "stream",
     "text": [
      "Add = 35\n"
     ]
    }
   ],
   "source": [
    "Num1=int(input(\"Enter the Num1 =\"))\n",
    "Num2=int(input(\"Enter the Num2 =\"))\n",
    "Add=Num1+Num2\n",
    "print(\"Add =\",Add)"
   ]
  },
  {
   "cell_type": "code",
   "execution_count": 4,
   "id": "ee5ef627-c461-4dc2-b7b7-81a9052843b7",
   "metadata": {},
   "outputs": [],
   "source": [
    "#Body mass index"
   ]
  },
  {
   "cell_type": "code",
   "execution_count": 17,
   "id": "2c672f87-3ba1-40f2-a510-e3681894e809",
   "metadata": {},
   "outputs": [
    {
     "name": "stdin",
     "output_type": "stream",
     "text": [
      "Enter the BMI Index = 40\n"
     ]
    },
    {
     "name": "stdout",
     "output_type": "stream",
     "text": [
      "Class-III Obesity\n"
     ]
    }
   ],
   "source": [
    "Num=int(input(\"Enter the BMI Index =\"))\n",
    "if(Num<18.5):\n",
    "    print(\"Underweight\")\n",
    "elif(Num<24.9):\n",
    "    print(\"Normal Weight\")\n",
    "elif(Num<29.9):\n",
    "    print(\"Clss-I Obesity - Over Weight\")\n",
    "elif(Num<39.9):\n",
    "    print(\"Class-II Obesity\")\n",
    "else:\n",
    "    print(\"Class-III Obesity\")"
   ]
  },
  {
   "cell_type": "code",
   "execution_count": null,
   "id": "5035dc1a-6aa0-46a4-ae1a-9ee1b66224a9",
   "metadata": {},
   "outputs": [],
   "source": []
  }
 ],
 "metadata": {
  "kernelspec": {
   "display_name": "Python [conda env:base] *",
   "language": "python",
   "name": "conda-base-py"
  },
  "language_info": {
   "codemirror_mode": {
    "name": "ipython",
    "version": 3
   },
   "file_extension": ".py",
   "mimetype": "text/x-python",
   "name": "python",
   "nbconvert_exporter": "python",
   "pygments_lexer": "ipython3",
   "version": "3.13.5"
  }
 },
 "nbformat": 4,
 "nbformat_minor": 5
}
