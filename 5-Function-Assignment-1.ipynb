{
 "cells": [
  {
   "cell_type": "code",
   "execution_count": 3,
   "id": "333032cb-dbe2-42b5-8fed-7b378d173703",
   "metadata": {},
   "outputs": [],
   "source": [
    "def Subfields():\n",
    "    print(\"Sub-fields in AI are:\")\n",
    "    print(\"Machine Learning\")\n",
    "    print(\"Machine Learning\")\n",
    "    print(\"Neural Networks\")\n",
    "    print(\"Vision\")\n",
    "    print(\"Robotics\")\n",
    "    print(\"Speech Processing\")\n",
    "    print(\"Natural Language Processing\")"
   ]
  },
  {
   "cell_type": "code",
   "execution_count": 4,
   "id": "dcf037c2-a06c-4cf3-a1e8-1f0d866488bd",
   "metadata": {},
   "outputs": [
    {
     "name": "stdout",
     "output_type": "stream",
     "text": [
      "Sub-fields in AI are:\n",
      "Machine Learning\n",
      "Machine Learning\n",
      "Neural Networks\n",
      "Vision\n",
      "Robotics\n",
      "Speech Processing\n",
      "Natural Language Processing\n"
     ]
    }
   ],
   "source": [
    "Subfields()"
   ]
  },
  {
   "cell_type": "code",
   "execution_count": 18,
   "id": "d9ba4e79-649e-4d14-b865-dafbdee27d93",
   "metadata": {},
   "outputs": [],
   "source": [
    "def OddEven():\n",
    "    num=int(input(\"Enter a number: \"))\n",
    "    if((num%2)==0):\n",
    "        print(num,\"is Even Number\")\n",
    "        a=num,\"is Even Number\"\n",
    "    else:\n",
    "        print(num,\"is Odd Number\")\n",
    "        a=num,\"is Odd Number\"\n",
    "    return a"
   ]
  },
  {
   "cell_type": "code",
   "execution_count": 19,
   "id": "5752cb88-61a8-4965-b7f0-0e14d2f7c230",
   "metadata": {},
   "outputs": [
    {
     "name": "stdin",
     "output_type": "stream",
     "text": [
      "Enter a number:  52452\n"
     ]
    },
    {
     "name": "stdout",
     "output_type": "stream",
     "text": [
      "52452 is Even Number\n"
     ]
    }
   ],
   "source": [
    "ans=OddEven()"
   ]
  },
  {
   "cell_type": "code",
   "execution_count": 20,
   "id": "927b41f7-3b9f-4bd7-9e5b-47df930ad93b",
   "metadata": {},
   "outputs": [],
   "source": [
    "def OddEven():\n",
    "    num=int(input(\"Enter a number: \"))\n",
    "    if((num%2)==0):\n",
    "        print(num,\"is Even Number\")\n",
    "    else:\n",
    "        print(num,\"is Odd Number\")        "
   ]
  },
  {
   "cell_type": "code",
   "execution_count": 21,
   "id": "4ac88f62-bca9-4383-ade6-beb9f7bd237c",
   "metadata": {},
   "outputs": [
    {
     "name": "stdin",
     "output_type": "stream",
     "text": [
      "Enter a number:  52452\n"
     ]
    },
    {
     "name": "stdout",
     "output_type": "stream",
     "text": [
      "52452 is Even Number\n"
     ]
    }
   ],
   "source": [
    "OddEven()"
   ]
  },
  {
   "cell_type": "code",
   "execution_count": 41,
   "id": "4d4b57d5-65c3-4a9b-8291-3f6bdd9a10b7",
   "metadata": {},
   "outputs": [
    {
     "name": "stdin",
     "output_type": "stream",
     "text": [
      "Enter the gender:  Male\n",
      "Enter the age: 23\n"
     ]
    }
   ],
   "source": [
    "gender=input(\"Enter the gender:\")\n",
    "age=int(input(\"Enter the age:\"))\n",
    "a=gender\n",
    "b=age\n",
    "def Eligible():\n",
    "    print(\"Your Gender:\",a)\n",
    "    print(\"Your Age:\",b)\n",
    "    if(a==\"male\" and b<21):\n",
    "        print(\"Not Eligible\")\n",
    "    elif(a==\"male\" and b>21):\n",
    "        print(\"Eligible\")\n",
    "    elif(a==\"female\" and b<18):\n",
    "        print(\"Not Eligible\")\n",
    "    else:\n",
    "        print(\"Eligible\")"
   ]
  },
  {
   "cell_type": "code",
   "execution_count": 42,
   "id": "9d39a201-5cba-4248-8250-208e87798886",
   "metadata": {},
   "outputs": [
    {
     "name": "stdout",
     "output_type": "stream",
     "text": [
      "Your Gender:  Male\n",
      "Your Age: 23\n",
      "Eligible\n"
     ]
    }
   ],
   "source": [
    "Eligible()"
   ]
  },
  {
   "cell_type": "code",
   "execution_count": 52,
   "id": "4ed72498-6bb7-41a8-ae4b-fcf1e904d1f8",
   "metadata": {},
   "outputs": [],
   "source": [
    "def percentage():\n",
    "    s1=int(input(\"Subject1=\"))\n",
    "    s2=int(input(\"Subject2=\"))\n",
    "    s3=int(input(\"Subject3=\"))\n",
    "    s4=int(input(\"Subject4=\"))\n",
    "    s5=int(input(\"Subject5=\"))\n",
    "    a=s1\n",
    "    b=s2\n",
    "    c=s3\n",
    "    d=s4\n",
    "    e=s5\n",
    "    f=a+b+c+d+e\n",
    "    g=(f/500)*100\n",
    "    print(\"Total:\",f)\n",
    "    print(\"Percentage:\",g)\n",
    "    "
   ]
  },
  {
   "cell_type": "code",
   "execution_count": 53,
   "id": "1fd8c923-b166-43e1-b6fc-9ace239d8aa6",
   "metadata": {},
   "outputs": [
    {
     "name": "stdin",
     "output_type": "stream",
     "text": [
      "Subject1= 98\n",
      "Subject2= 87\n",
      "Subject3= 95\n",
      "Subject4= 95\n",
      "Subject5= 93\n"
     ]
    },
    {
     "name": "stdout",
     "output_type": "stream",
     "text": [
      "Total: 468\n",
      "Percentage: 93.60000000000001\n"
     ]
    }
   ],
   "source": [
    "percentage()"
   ]
  },
  {
   "cell_type": "code",
   "execution_count": 57,
   "id": "22f03347-c9c3-497e-b192-659c075380de",
   "metadata": {},
   "outputs": [],
   "source": [
    "def triange():\n",
    "    x=int(input(\"Height:\"))\n",
    "    y=int(input(\"Breadth:\"))\n",
    "    z=(x*y)/2\n",
    "    print(\"Area formula: (Height*Breadth)/2\")\n",
    "    print(\"Area of Triangle:\",z)\n",
    "    h=int(input(\"Height1:\"))\n",
    "    i=int(input(\"Height2:\"))\n",
    "    j=int(input(\"Breadth:\"))\n",
    "    k=h+i+j\n",
    "    print(\"Perimeter formula: Height1+Height2+Breadth\")\n",
    "    print(\"Perimeter of Triangle:\",k)\n",
    "    "
   ]
  },
  {
   "cell_type": "code",
   "execution_count": 58,
   "id": "c47485a1-986f-458d-97f8-0f13e5ef48dc",
   "metadata": {},
   "outputs": [
    {
     "name": "stdin",
     "output_type": "stream",
     "text": [
      "Height: 32\n",
      "Breadth: 34\n"
     ]
    },
    {
     "name": "stdout",
     "output_type": "stream",
     "text": [
      "Area formula: (Height*Breadth)/2\n",
      "Area of Triangle: 544.0\n"
     ]
    },
    {
     "name": "stdin",
     "output_type": "stream",
     "text": [
      "Height1: 2\n",
      "Height2: 4\n",
      "Breadth: 4\n"
     ]
    },
    {
     "name": "stdout",
     "output_type": "stream",
     "text": [
      "Perimeter formula: Height1+Height2+Breadth\n",
      "Perimeter of Triangle: 10\n"
     ]
    }
   ],
   "source": [
    "triange()"
   ]
  },
  {
   "cell_type": "code",
   "execution_count": null,
   "id": "b1bcd345-0865-4740-935d-52249ec89669",
   "metadata": {},
   "outputs": [],
   "source": []
  }
 ],
 "metadata": {
  "kernelspec": {
   "display_name": "Python [conda env:base] *",
   "language": "python",
   "name": "conda-base-py"
  },
  "language_info": {
   "codemirror_mode": {
    "name": "ipython",
    "version": 3
   },
   "file_extension": ".py",
   "mimetype": "text/x-python",
   "name": "python",
   "nbconvert_exporter": "python",
   "pygments_lexer": "ipython3",
   "version": "3.13.5"
  }
 },
 "nbformat": 4,
 "nbformat_minor": 5
}
