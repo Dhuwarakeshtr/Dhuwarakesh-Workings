{
 "cells": [
  {
   "cell_type": "code",
   "execution_count": 1,
   "id": "8d1b55d7-707e-4cc6-be19-6d9c51eba982",
   "metadata": {},
   "outputs": [],
   "source": [
    "#from \"filename\" import \"classname\"\n",
    "from multipleFunctions import multipleFunctions"
   ]
  },
  {
   "cell_type": "code",
   "execution_count": 2,
   "id": "f03ea611-bda5-436e-80ee-5604563f2c2e",
   "metadata": {},
   "outputs": [
    {
     "name": "stdin",
     "output_type": "stream",
     "text": [
      "Enter the BMI number : 18\n"
     ]
    },
    {
     "name": "stdout",
     "output_type": "stream",
     "text": [
      "Under Weight\n"
     ]
    },
    {
     "data": {
      "text/plain": [
       "'Under Weight'"
      ]
     },
     "execution_count": 2,
     "metadata": {},
     "output_type": "execute_result"
    }
   ],
   "source": [
    "multipleFunctions.BMI()"
   ]
  },
  {
   "cell_type": "code",
   "execution_count": 3,
   "id": "da321781-fd52-4790-94d7-e1a3c20a80d9",
   "metadata": {},
   "outputs": [
    {
     "name": "stdin",
     "output_type": "stream",
     "text": [
      "Enter the number:  459\n"
     ]
    },
    {
     "name": "stdout",
     "output_type": "stream",
     "text": [
      "Odd Number\n"
     ]
    },
    {
     "data": {
      "text/plain": [
       "'Odd Number'"
      ]
     },
     "execution_count": 3,
     "metadata": {},
     "output_type": "execute_result"
    }
   ],
   "source": [
    "multipleFunctions.Evenodd()"
   ]
  },
  {
   "cell_type": "code",
   "execution_count": null,
   "id": "bc755436-9363-49e5-bef6-c45d889c29a1",
   "metadata": {},
   "outputs": [],
   "source": []
  }
 ],
 "metadata": {
  "kernelspec": {
   "display_name": "Python [conda env:base] *",
   "language": "python",
   "name": "conda-base-py"
  },
  "language_info": {
   "codemirror_mode": {
    "name": "ipython",
    "version": 3
   },
   "file_extension": ".py",
   "mimetype": "text/x-python",
   "name": "python",
   "nbconvert_exporter": "python",
   "pygments_lexer": "ipython3",
   "version": "3.13.5"
  }
 },
 "nbformat": 4,
 "nbformat_minor": 5
}
