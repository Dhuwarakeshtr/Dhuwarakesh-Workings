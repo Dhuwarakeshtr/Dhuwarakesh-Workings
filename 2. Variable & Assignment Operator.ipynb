{
 "cells": [
  {
   "cell_type": "code",
   "execution_count": 2,
   "id": "c82956b4-9ff3-4064-9db7-dd8d86736988",
   "metadata": {},
   "outputs": [],
   "source": [
    "num1=30\n",
    "num2=31\n",
    "add=num1+num2"
   ]
  },
  {
   "cell_type": "code",
   "execution_count": 3,
   "id": "8e17ea6c-f6ec-48b9-ae78-4a68ccf54a89",
   "metadata": {},
   "outputs": [
    {
     "name": "stdout",
     "output_type": "stream",
     "text": [
      "65\n"
     ]
    }
   ],
   "source": [
    "num1=32\n",
    "num2=33\n",
    "add=num1+num2\n",
    "print(add)"
   ]
  },
  {
   "cell_type": "code",
   "execution_count": 4,
   "id": "88ad751d-fca2-469d-949c-9d12f8051085",
   "metadata": {},
   "outputs": [
    {
     "name": "stdin",
     "output_type": "stream",
     "text": [
      "Enter the number 1 : 25.5\n",
      "Enter the number 2: 26.5\n"
     ]
    },
    {
     "name": "stdout",
     "output_type": "stream",
     "text": [
      "Addition : 25.526.5\n"
     ]
    }
   ],
   "source": [
    "num1=input(\"Enter the number 1 :\")\n",
    "num2=input(\"Enter the number 2:\")\n",
    "add=num1+num2\n",
    "print(\"Addition :\",add)"
   ]
  },
  {
   "cell_type": "code",
   "execution_count": null,
   "id": "0f3de19b-918e-483d-80b0-7d8719500235",
   "metadata": {},
   "outputs": [],
   "source": [
    "num1=int(input(\"Enter the number 1 :\"))\n",
    "num2=int(input(\"Enter the number 2:\"))\n",
    "add=num1+num2\n",
    "print(\"Addition :\",add)"
   ]
  },
  {
   "cell_type": "code",
   "execution_count": null,
   "id": "c75571c8-6d41-4dfd-84b2-77d9eb13301c",
   "metadata": {},
   "outputs": [],
   "source": []
  }
 ],
 "metadata": {
  "kernelspec": {
   "display_name": "Python [conda env:base] *",
   "language": "python",
   "name": "conda-base-py"
  },
  "language_info": {
   "codemirror_mode": {
    "name": "ipython",
    "version": 3
   },
   "file_extension": ".py",
   "mimetype": "text/x-python",
   "name": "python",
   "nbconvert_exporter": "python",
   "pygments_lexer": "ipython3",
   "version": "3.13.5"
  }
 },
 "nbformat": 4,
 "nbformat_minor": 5
}
